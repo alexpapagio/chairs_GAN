{
 "cells": [
  {
   "cell_type": "code",
   "execution_count": 5,
   "id": "21534a8d",
   "metadata": {},
   "outputs": [],
   "source": [
    "from PIL import Image\n",
    "import matplotlib.image as mpimg\n",
    "import matplotlib.pyplot as plt"
   ]
  },
  {
   "cell_type": "code",
   "execution_count": 18,
   "id": "9487056c",
   "metadata": {},
   "outputs": [
    {
     "data": {
      "image/png": "[encoded data removed]",
      "text/plain": [
       "<Figure size 640x480 with 1 Axes>"
      ]
     },
     "metadata": {},
     "output_type": "display_data"
    }
   ],
   "source": [
    "data_path = '../raw_data/archive/antic_chairs/3d015004-c2a5-407e-8e7b-6895270b6087_100x100.jpg'\n",
    "\n",
    "image = mpimg.imread(data_path)\n",
    "\n",
    "# Display the image using Matplotlib\n",
    "plt.imshow(image,cmap='gray')\n",
    "plt.axis('off')  # Turn off axis\n",
    "plt.show()"
   ]
  },
  {
   "cell_type": "code",
   "execution_count": 19,
   "id": "103c1064",
   "metadata": {},
   "outputs": [
    {
     "name": "stderr",
     "output_type": "stream",
     "text": [
      "/tmp/ipykernel_287459/861292927.py:8: DeprecationWarning: BILINEAR is deprecated and will be removed in Pillow 10 (2023-07-01). Use Resampling.BILINEAR instead.\n",
      "  resized_image = image.resize(new_size, Image.BILINEAR)\n"
     ]
    }
   ],
   "source": [
    "\n",
    "# Load your image\n",
    "image = Image.open(\"../raw_data/archive/antic_chairs/3d015004-c2a5-407e-8e7b-6895270b6087_100x100.jpg\")\n",
    "\n",
    "# Define the new size you want\n",
    "new_size = (256, 256)\n",
    "\n",
    "# Resize the image using bilinear interpolation\n",
    "resized_image = image.resize(new_size, Image.BILINEAR)\n",
    "\n",
    "# Save or display the resized image\n",
    "resized_image.show()"
   ]
  },
  {
   "cell_type": "code",
   "execution_count": 20,
   "id": "0354ea61",
   "metadata": {},
   "outputs": [],
   "source": [
    "gray_img = image.convert('L')\n"
   ]
  },
  {
   "cell_type": "code",
   "execution_count": 21,
   "id": "ba8cb7c4",
   "metadata": {},
   "outputs": [
    {
     "data": {
      "image/png": "[encoded data removed]",
      "text/plain": [
       "<PIL.Image.Image image mode=L size=100x100>"
      ]
     },
     "execution_count": 21,
     "metadata": {},
     "output_type": "execute_result"
    }
   ],
   "source": [
    "gray_img"
   ]
  },
  {
   "cell_type": "code",
   "execution_count": 22,
   "id": "9865d8b4",
   "metadata": {},
   "outputs": [],
   "source": [
    "image.show()"
   ]
  },
  {
   "cell_type": "code",
   "execution_count": 4,
   "id": "7bb31b3e",
   "metadata": {},
   "outputs": [],
   "source": [
    "import cv2\n",
    "import os\n",
    "\n",
    "# Define input and output directories\n",
    "input_dir = '../raw_data/archive/preprocessed/'\n",
    "output_dir = '../raw_data/archive/prep_grey/'\n",
    "\n",
    "# Create output directory if it doesn't exist\n",
    "if not os.path.exists(output_dir):\n",
    "    os.makedirs(output_dir)\n",
    "\n",
    "# Iterate through each image in the input directory\n",
    "for filename in os.listdir(input_dir):\n",
    "    # Read the image\n",
    "    img_path = os.path.join(input_dir, filename)\n",
    "    img = cv2.imread(img_path)\n",
    "    \n",
    "    # Convert the image to grayscale\n",
    "    gray_img = cv2.cvtColor(img, cv2.COLOR_BGR2GRAY)\n",
    "    \n",
    "    # Save the grayscale image to the output directory\n",
    "    output_path = os.path.join(output_dir, filename)\n",
    "    cv2.imwrite(output_path, gray_img)\n"
   ]
  },
  {
   "cell_type": "code",
   "execution_count": null,
   "id": "13ed99af",
   "metadata": {},
   "outputs": [],
   "source": []
  }
 ],
 "metadata": {
  "kernelspec": {
   "display_name": "Python 3 (ipykernel)",
   "language": "python",
   "name": "python3"
  },
  "language_info": {
   "codemirror_mode": {
    "name": "ipython",
    "version": 3
   },
   "file_extension": ".py",
   "mimetype": "text/x-python",
   "name": "python",
   "nbconvert_exporter": "python",
   "pygments_lexer": "ipython3",
   "version": "3.10.6"
  },
  "toc": {
   "base_numbering": 1,
   "nav_menu": {},
   "number_sections": true,
   "sideBar": true,
   "skip_h1_title": false,
   "title_cell": "Table of Contents",
   "title_sidebar": "Contents",
   "toc_cell": false,
   "toc_position": {},
   "toc_section_display": true,
   "toc_window_display": false
  }
 },
 "nbformat": 4,
 "nbformat_minor": 5
}
