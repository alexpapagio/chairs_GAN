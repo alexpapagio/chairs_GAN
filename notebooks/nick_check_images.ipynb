{
 "cells": [
  {
   "cell_type": "code",
   "execution_count": 1,
   "metadata": {},
   "outputs": [
    {
     "data": {
      "text/plain": [
       "'num_channels'"
      ]
     },
     "metadata": {},
     "output_type": "display_data"
    },
    {
     "data": {
      "text/plain": [
       "('R', 'G', 'B')"
      ]
     },
     "metadata": {},
     "output_type": "display_data"
    },
    {
     "data": {
      "text/plain": [
       "'channel_sizes'"
      ]
     },
     "metadata": {},
     "output_type": "display_data"
    },
    {
     "data": {
      "text/plain": [
       "(256, 256)"
      ]
     },
     "metadata": {},
     "output_type": "display_data"
    },
    {
     "data": {
      "text/plain": [
       "'split length (channels)'"
      ]
     },
     "metadata": {},
     "output_type": "display_data"
    },
    {
     "data": {
      "text/plain": [
       "3"
      ]
     },
     "metadata": {},
     "output_type": "display_data"
    },
    {
     "data": {
      "text/plain": [
       "((256, 256), (256, 256), (256, 256))"
      ]
     },
     "execution_count": 1,
     "metadata": {},
     "output_type": "execute_result"
    }
   ],
   "source": [
    "from PIL import Image\n",
    "import os\n",
    "\n",
    "image_path = '/Users/nruth/code/nruth/project/chairs_GAN/raw_data/processed_data/seeing_3d_chairs_cropped_256x256/'\n",
    "\n",
    "# Get the list of files in the directory\n",
    "files = os.listdir(image_path)\n",
    "# Filter out non-image files\n",
    "image_files = [file for file in files if file.endswith(('.jpg', '.jpeg', '.png'))]\n",
    "# Load any one image file\n",
    "first_image_path = os.path.join(image_path, image_files[0])\n",
    "image = Image.open(first_image_path)\n",
    "\n",
    "# Check the number of channels\n",
    "num_channels = image.getbands()\n",
    "\n",
    "# Check the size of each channel\n",
    "channel_sizes = image.size\n",
    "\n",
    "display(\"num_channels\", num_channels, \"channel_sizes\", channel_sizes)\n",
    "\n",
    "# Split the image into individual channels\n",
    "split = image.split()\n",
    "display(\"split length (channels)\", len(split))\n",
    "red_channel, green_channel, blue_channel = split\n",
    "\n",
    "# Check the shape of each channel\n",
    "red_channel_shape = red_channel.size\n",
    "green_channel_shape = green_channel.size\n",
    "blue_channel_shape = blue_channel.size\n",
    "\n",
    "red_channel_shape, green_channel_shape, blue_channel_shape\n"
   ]
  }
 ],
 "metadata": {
  "kernelspec": {
   "display_name": "lewagon",
   "language": "python",
   "name": "python3"
  },
  "language_info": {
   "codemirror_mode": {
    "name": "ipython",
    "version": 3
   },
   "file_extension": ".py",
   "mimetype": "text/x-python",
   "name": "python",
   "nbconvert_exporter": "python",
   "pygments_lexer": "ipython3",
   "version": "3.10.6"
  }
 },
 "nbformat": 4,
 "nbformat_minor": 2
}
